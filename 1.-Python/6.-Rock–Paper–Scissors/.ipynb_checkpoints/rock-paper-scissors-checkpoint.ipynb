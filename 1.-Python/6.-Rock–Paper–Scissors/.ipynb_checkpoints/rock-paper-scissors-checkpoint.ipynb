{
 "cells": [
  {
   "cell_type": "markdown",
   "metadata": {},
   "source": [
    "<img src=\"https://bit.ly/2VnXWr2\" width=\"100\" align=\"left\">"
   ]
  },
  {
   "cell_type": "markdown",
   "metadata": {},
   "source": [
    "# Rock, Paper & Scissors\n",
    "\n",
    "Let's play the famous game against our computer. You can check the rules [here](https://en.wikipedia.org/wiki/Rock%E2%80%93paper%E2%80%93scissors). \n",
    "\n",
    "## Task\n",
    "Create a program that imitates the playability of the well known game of rock, paper, scissors. Follow the guidelines provided.\n",
    "\n",
    "## Tools\n",
    "1. Loop: **for/while**\n",
    "2. Functions: **input(), print()...**\n",
    "3. Conditional statements: **if, elif, else**\n",
    "4. Definition of functions. Modular programming\n",
    "5. Import modules\n",
    "\n",
    "**To solve this challenge, the use of functions is recommended.**\n",
    "\n",
    "#### 1. Import the choice function of the random module."
   ]
  },
  {
   "cell_type": "code",
   "execution_count": 1,
   "metadata": {},
   "outputs": [],
   "source": [
    "from random import choice"
   ]
  },
  {
   "cell_type": "markdown",
   "metadata": {},
   "source": [
    "#### 2. Create a list that includes the 3 possible gesture options of the game: 'rock', 'paper' or 'scissors'. Store the list in a variable called `gestures`."
   ]
  },
  {
   "cell_type": "code",
   "execution_count": 2,
   "metadata": {},
   "outputs": [],
   "source": [
    "gestures=['rock','paper','scissors']"
   ]
  },
  {
   "cell_type": "markdown",
   "metadata": {},
   "source": [
    "#### 3. Create a variable called `n_rounds` to store the maximum number of rounds to play in a game. \n",
    "Remember that the number of rounds must be odd: 1, 3, 5, ..."
   ]
  },
  {
   "cell_type": "code",
   "execution_count": 3,
   "metadata": {},
   "outputs": [],
   "source": [
    "n_rounds=5"
   ]
  },
  {
   "cell_type": "markdown",
   "metadata": {},
   "source": [
    "#### 4. Create a variable called `rounds_to_win` to store the number of rounds that a player must win to win the game.\n",
    "**Hint**: the value stored in `rounds_to_win` depends on the value of `n_rounds`. "
   ]
  },
  {
   "cell_type": "code",
   "execution_count": 4,
   "metadata": {},
   "outputs": [],
   "source": [
    "rounds_to_win=2"
   ]
  },
  {
   "cell_type": "markdown",
   "metadata": {},
   "source": [
    "#### 5. Create two variables to store the number of rounds that the computer and the player have won. Call these variables `cpu_score` and `player_score`."
   ]
  },
  {
   "cell_type": "code",
   "execution_count": 5,
   "metadata": {},
   "outputs": [],
   "source": [
    "cpu_score=0\n",
    "player_score=0"
   ]
  },
  {
   "cell_type": "markdown",
   "metadata": {},
   "source": [
    "#### 6. Define a function that randomly returns one of the 3 gesture options.\n",
    "You will use this function to simulate the gesture choice of the computer. "
   ]
  },
  {
   "cell_type": "code",
   "execution_count": 6,
   "metadata": {},
   "outputs": [],
   "source": [
    "def cpuRPS():\n",
    "    return choice(gestures)"
   ]
  },
  {
   "cell_type": "markdown",
   "metadata": {},
   "source": [
    "#### 7. Define a function that asks the player which is the gesture he or she wants to show: 'rock', 'paper' or 'scissors'.\n",
    "The player should only be allowed to choose one of the 3 gesture options. If the player's choice is not rock, paper or scissors, keep asking until it is."
   ]
  },
  {
   "cell_type": "code",
   "execution_count": 7,
   "metadata": {},
   "outputs": [],
   "source": [
    "\n",
    "def askRPS():\n",
    "    valid=False\n",
    "    while valid==False:\n",
    "        gesture=input('Choose your gesture: ')\n",
    "        for i in gestures:\n",
    "            if i == gesture: valid=True\n",
    "    return gesture"
   ]
  },
  {
   "cell_type": "markdown",
   "metadata": {},
   "source": [
    "#### 8. Define a function that checks who won a round. \n",
    "The function should return 0 if there is a tie, 1 if the computer wins and 2 if the player wins."
   ]
  },
  {
   "cell_type": "code",
   "execution_count": 8,
   "metadata": {},
   "outputs": [],
   "source": [
    "def whoWon(cpuG, playerG):\n",
    "    if cpuG=='rock':\n",
    "        if playerG=='rock': return 0\n",
    "        elif playerG=='scissors': return 1\n",
    "        elif playerG=='paper': return 2\n",
    "    elif cpuG=='paper':\n",
    "        if playerG=='paper': return 0\n",
    "        elif playerG=='rock': return 1\n",
    "        elif playerG=='scissors': return 2\n",
    "    elif cpuG=='scissors':\n",
    "        if playerG=='scissors': return 0\n",
    "        elif playerG=='paper': return 1\n",
    "        elif playerG=='rock': return 2\n",
    "    "
   ]
  },
  {
   "cell_type": "markdown",
   "metadata": {},
   "source": [
    "#### 9. Define a function that prints the choice of the computer, the choice of the player and a message that announces who won the current round. \n",
    "You should also use this function to update the variables that count the number of rounds that the computer and the player have won. The score of the winner increases by one point. If there is a tie, the score does not increase."
   ]
  },
  {
   "cell_type": "code",
   "execution_count": 11,
   "metadata": {},
   "outputs": [],
   "source": [
    "def Round(cpuG, playerG,score=[0,0]):\n",
    "    print('The cpu picked', cpuG, 'and the player picked', playerG)\n",
    "    if whoWon(cpuG, playerG)==1: \n",
    "        score[0]+=1\n",
    "        print('The cpu won this round')\n",
    "        return score\n",
    "    elif whoWon(cpuG, playerG)==2: \n",
    "        score[1]+=1\n",
    "        print('You have won this round')\n",
    "        return score\n",
    "    else: return score\n",
    "    "
   ]
  },
  {
   "cell_type": "markdown",
   "metadata": {},
   "source": [
    "#### 10. Now it's time to code the execution of the game using the functions and variables you defined above. \n",
    "\n",
    "First, create a loop structure that repeats while no player reaches the minimum score necessary to win and the number of rounds is less than the maximum number of rounds to play in a game.  \n",
    "\n",
    "Inside the loop, use the functions and variables above to create the execution of a round: ask for the player's choice, generate the random choice of the computer, show the round results, update the scores, etc."
   ]
  },
  {
   "cell_type": "code",
   "execution_count": 16,
   "metadata": {},
   "outputs": [
    {
     "name": "stdout",
     "output_type": "stream",
     "text": [
      "Choose your gesture: rock\n",
      "The cpu picked paper and the player picked rock\n",
      "The cpu won this round\n",
      "cpu: 1 player: 0\n",
      "Choose your gesture: rock\n",
      "The cpu picked rock and the player picked rock\n",
      "cpu: 1 player: 0\n",
      "Choose your gesture: rock\n",
      "The cpu picked rock and the player picked rock\n",
      "cpu: 1 player: 0\n",
      "Choose your gesture: rock\n",
      "The cpu picked scissors and the player picked rock\n",
      "You have won this round\n",
      "cpu: 1 player: 1\n",
      "Choose your gesture: rock\n",
      "The cpu picked scissors and the player picked rock\n",
      "You have won this round\n",
      "cpu: 1 player: 2\n"
     ]
    }
   ],
   "source": [
    "roundNum=1\n",
    "score=[0,0]\n",
    "while score[0] < rounds_to_win and score[1] < rounds_to_win and roundNum <= n_rounds:\n",
    "    cpuG=cpuRPS()\n",
    "    playerG=askRPS()\n",
    "    score=Round(cpuG,playerG,score)\n",
    "    roundNum+=1\n",
    "    print('cpu:',score[0],'player:',score[1])"
   ]
  },
  {
   "cell_type": "markdown",
   "metadata": {},
   "source": [
    "#### 11. Print the winner of the game based on who won more rounds.\n",
    "Remember that the game might be tied."
   ]
  },
  {
   "cell_type": "code",
   "execution_count": 18,
   "metadata": {},
   "outputs": [
    {
     "name": "stdout",
     "output_type": "stream",
     "text": [
      "You have won the match!\n"
     ]
    }
   ],
   "source": [
    "if score[0]>score[1]: print('The cpu has won the match!')\n",
    "elif score[1]>score[0]: print('You have won the match!')\n",
    "else: print('The match ends in a tie!')"
   ]
  },
  {
   "cell_type": "markdown",
   "metadata": {},
   "source": [
    "# Bonus: Rock, Paper, Scissors, Lizard & Spock\n",
    "![](images/rpsls.jpg)\n",
    "\n",
    "In this challenge, you need to improve the previous game by adding two new options. To know more about the rules of the improved version of rock, paper, scissors, check this [link](http://www.samkass.com/theories/RPSSL.html). \n",
    "\n",
    "In addition, you will also need to improve how the game interacts with the player: the number of rounds to play, which must be an odd number, will be requested to the user until a valid number is entered. Define a new function to make that request.\n",
    "\n",
    "**Hint**: Try to reuse the code that you already coded in the previous challenge. If your code is efficient, this bonus will only consist of simple modifications to the original game."
   ]
  },
  {
   "cell_type": "code",
   "execution_count": 50,
   "metadata": {},
   "outputs": [
    {
     "name": "stdout",
     "output_type": "stream",
     "text": [
      "How many rounds at most should the game last? 5\n"
     ]
    }
   ],
   "source": [
    "gesturesB=['rock','paper','scissors','lizard','spock']\n",
    "rounds_to_win=3\n",
    "def askRounds():\n",
    "    n_rounds=2\n",
    "    while n_rounds % 2 == 0:\n",
    "        n_rounds=int(input('How many rounds at most should the game last? '))\n",
    "    return n_rounds\n",
    "n_roundsB=askRounds()"
   ]
  },
  {
   "cell_type": "code",
   "execution_count": 46,
   "metadata": {},
   "outputs": [],
   "source": [
    "def cpuRPSB():\n",
    "    return choice(gesturesB)\n",
    "def askRPSB():\n",
    "    valid=False\n",
    "    while valid==False:\n",
    "        gesture=input('Choose your gesture: ')\n",
    "        for i in gesturesB:\n",
    "            if i == gesture: valid=True\n",
    "    return gesture"
   ]
  },
  {
   "cell_type": "code",
   "execution_count": 47,
   "metadata": {},
   "outputs": [],
   "source": [
    "def whoWonB(cpuG, playerG):\n",
    "    if cpuG=='rock':\n",
    "        if playerG=='rock': return 0\n",
    "        elif playerG=='scissors': return 1\n",
    "        elif playerG=='paper': return 2\n",
    "        elif playerG=='spock': return 2\n",
    "        elif playerG=='lizard':return 1\n",
    "    elif cpuG=='paper':\n",
    "        if playerG=='paper': return 0\n",
    "        elif playerG=='rock': return 1\n",
    "        elif playerG=='scissors': return 2\n",
    "        elif playerG=='spock': return 1\n",
    "        elif playerG=='lizard':return 2\n",
    "    elif cpuG=='scissors':\n",
    "        if playerG=='scissors': return 0\n",
    "        elif playerG=='paper': return 1\n",
    "        elif playerG=='rock': return 2\n",
    "        elif playerG=='spock': return 2\n",
    "        elif playerG=='lizard':return 1\n",
    "    elif cpuG=='lizard':\n",
    "        if playerG=='scissors': return 2\n",
    "        elif playerG=='paper': return 1\n",
    "        elif playerG=='rock': return 2\n",
    "        elif playerG=='spock': return 1\n",
    "        elif playerG=='lizard':return 0\n",
    "    elif cpuG=='spock':\n",
    "        if playerG=='scissors': return 1\n",
    "        elif playerG=='paper': return 2\n",
    "        elif playerG=='rock': return 1\n",
    "        elif playerG=='spock': return 0\n",
    "        elif playerG=='lizard':return 2"
   ]
  },
  {
   "cell_type": "code",
   "execution_count": 48,
   "metadata": {},
   "outputs": [],
   "source": [
    "def RoundB(cpuG, playerG,score=[0,0]):\n",
    "    print('The cpu picked', cpuG, 'and the player picked', playerG)\n",
    "    if whoWon(cpuG, playerG)==1: \n",
    "        score[0]+=1\n",
    "        print('The cpu won this round')\n",
    "        return score\n",
    "    elif whoWon(cpuG, playerG)==2: \n",
    "        score[1]+=1\n",
    "        print('You have won this round')\n",
    "        return score\n",
    "    else: return score"
   ]
  },
  {
   "cell_type": "code",
   "execution_count": 51,
   "metadata": {},
   "outputs": [
    {
     "name": "stdout",
     "output_type": "stream",
     "text": [
      "Choose your gesture: \n",
      "Choose your gesture: rock\n",
      "The cpu picked paper and the player picked rock\n",
      "The cpu won this round\n",
      "cpu: 1 player: 0\n",
      "Choose your gesture: rock\n",
      "The cpu picked spock and the player picked rock\n",
      "The cpu won this round\n",
      "cpu: 2 player: 0\n",
      "Choose your gesture: lizard\n",
      "The cpu picked lizard and the player picked lizard\n",
      "cpu: 2 player: 0\n",
      "Choose your gesture: spock\n",
      "The cpu picked scissors and the player picked spock\n",
      "You have won this round\n",
      "cpu: 2 player: 1\n",
      "Choose your gesture: paper\n",
      "The cpu picked lizard and the player picked paper\n",
      "The cpu won this round\n",
      "cpu: 3 player: 1\n",
      "The cpu has won the match!\n"
     ]
    }
   ],
   "source": [
    "roundNum=1\n",
    "score=[0,0]\n",
    "while score[0] < rounds_to_win and score[1] < rounds_to_win and roundNum <= n_rounds:\n",
    "    cpuG=cpuRPSB()\n",
    "    playerG=askRPSB()\n",
    "    score=Round(cpuG,playerG,score)\n",
    "    roundNum+=1\n",
    "    print('cpu:',score[0],'player:',score[1])\n",
    "if score[0]>score[1]: print('The cpu has won the match!')\n",
    "elif score[1]>score[0]: print('You have won the match!')\n",
    "else: print('The match ends in a tie!')"
   ]
  },
  {
   "cell_type": "code",
   "execution_count": null,
   "metadata": {},
   "outputs": [],
   "source": []
  }
 ],
 "metadata": {
  "kernelspec": {
   "display_name": "Python 3",
   "language": "python",
   "name": "python3"
  },
  "language_info": {
   "codemirror_mode": {
    "name": "ipython",
    "version": 3
   },
   "file_extension": ".py",
   "mimetype": "text/x-python",
   "name": "python",
   "nbconvert_exporter": "python",
   "pygments_lexer": "ipython3",
   "version": "3.8.8"
  }
 },
 "nbformat": 4,
 "nbformat_minor": 2
}
